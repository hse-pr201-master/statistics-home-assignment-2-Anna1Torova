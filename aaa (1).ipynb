{
 "cells": [
  {
   "cell_type": "markdown",
   "metadata": {},
   "source": [
    "# Домашняя работа по Теории вероятности и Математической статистике #\n",
    "<p style='text-align: right;'> Работа выполнена студенткой 2-ого курса группы БЭК-212\n",
    "Торовой Анной </p>"
   ]
  },
  {
   "cell_type": "markdown",
   "metadata": {},
   "source": [
    "## Задача 1 ##\n",
    "<span style=\"color:#59afe1\"> Однажды в Самарканде турист заказывал Яндекс-такси. На десятом заказе впервые приехал\n",
    "таксист, который уже раньше приезжал к туристу. Для упрощения предположим, что все n\n",
    "таксистов Самарканда всегда на работе и приезжают равновероятно..</span>"
   ]
  },
  {
   "cell_type": "code",
   "execution_count": null,
   "metadata": {},
   "outputs": [],
   "source": [
    "import numpy as np\n",
    "import pandas as pd\n",
    "import math\n",
    "import matplotlib.pyplot as plt\n",
    "from scipy import stats"
   ]
  },
  {
   "cell_type": "markdown",
   "metadata": {},
   "source": [
    "<p style='text-align: center;'> \n",
    "а) Постройте график функции правдоподобия как функции от общего количества такси\n",
    "n. Найдите оценку числа n методом максимального правдоподобия. </p>"
   ]
  },
  {
   "cell_type": "markdown",
   "metadata": {},
   "source": [
    "Запишем вероятность того, что на 10-ый день приедет таксист, который раннее уже приезжал\n",
    "$$\n",
    "P=\\frac{n \\cdot (n-1) \\cdot (n-2) \\cdot ... \\cdot (n-8) \\cdot 9}{n} = \\frac{n!}{(n-9)!} \\cdot \\frac{9}{n^{10}}\n",
    "$$"
   ]
  },
  {
   "cell_type": "markdown",
   "metadata": {},
   "source": [
    "Тогда сначала найдем оценку методом максимального правдоподобия\n",
    "$$\n",
    "L=ln(P)=ln(\\frac{n \\cdot (n-1) \\cdot (n-2) \\cdot ... \\cdot (n-8) \\cdot 9}{n}) = ln(\\frac{n!}{(n-9)!} \\cdot \\frac{9}{n^{10}})  \\quad -> \\quad max(n)\n",
    "$$"
   ]
  },
  {
   "cell_type": "code",
   "execution_count": null,
   "metadata": {},
   "outputs": [],
   "source": [
    "n_hat_ML=np.argmax(probs)+1\n",
    "print(f'ML оценка числа таксистов = {n_hat_ML}')"
   ]
  },
  {
   "cell_type": "markdown",
   "metadata": {},
   "source": [
    "Получившаяся оценка числа n методом максимального правдоподобия составляет 42"
   ]
  },
  {
   "cell_type": "code",
   "execution_count": null,
   "metadata": {},
   "outputs": [],
   "source": [
    "def hood(n):\n",
    "    P = ((n-1)/n)*((n-2)/n)*((n-3)/n)*((n-4)/n)*((n-5)/n)*((n-6)/n)*((n-7)/n)*((n-8)/n)*(9/n)\n",
    "    return P\n",
    "values = np.arange(1, 1001)\n",
    "final = np.apply_along_axis(hood, axis=0, arr=n)\n",
    "plt.xlabel('n -  число таксистов')\n",
    "plt.ylabel('Значение функции правдоподобия')\n",
    "plt.title('График функции правдоподобия')\n",
    "plt.plot(final)\n",
    "plt.grid(True)\n",
    "plt.show()"
   ]
  },
  {
   "cell_type": "markdown",
   "metadata": {},
   "source": [
    "<image src=\"https://ltdfoto.ru/images/2023/06/13/picture.png\" alt=\"График функции правдоподобия\">\n"
   ]
  },
  {
   "cell_type": "markdown",
   "metadata": {},
   "source": [
    "<p style='text-align: center;'> \n",
    "б) Постройте график математического ожидания номера заказа, на котором происходит\n",
    "первый повторный приезд, как функции от общего количества такси n. Найдите оценку\n",
    "числа n методом моментов. </p>"
   ]
  },
  {
   "cell_type": "code",
   "execution_count": null,
   "metadata": {},
   "outputs": [],
   "source": [
    "def prob(n, d):\n",
    "    p = np.prod((n - np.arange(0, d - 1))/n)\n",
    "    p *= (d - 1)/n\n",
    "    return p\n",
    "    \n",
    "n = np.arange(1, 1001)\n",
    "def exp(n):\n",
    "    k = np.arange(2, n+2)\n",
    "    p = np.vectorize(prob)(n, k)\n",
    "    E = np.sum(p * k) \n",
    "    return E\n",
    "E1 = []\n",
    "for i in n:\n",
    "    E = exp(i)\n",
    "    E1.append(E)\n",
    "\n",
    "\n",
    "plt.figure(figsize = (16, 8), dpi=300)\n",
    "plt.plot(n, E1, color='blue')\n",
    "plt.xlabel(\"Количество такси - n\")\n",
    "plt.ylabel(\"Математическое ожидание\")\n",
    "plt.title(\"График математического ожидания номера заказа\")\n",
    "plt.grid(True)\n",
    "plt.show()\n"
   ]
  },
  {
   "cell_type": "markdown",
   "metadata": {},
   "source": [
    "Рассчитаем математические ожидания, используя функцию, на входе в которую будет число таксистов, рассматривая только те дни, когда есть вероятность второго таксиста"
   ]
  },
  {
   "cell_type": "markdown",
   "metadata": {},
   "source": [
    "<image src=\"https://ltdfoto.ru/images/2023/06/13/SNIMOK-EKRANA-2023-06-13-V-14.14.04.png\" alt=\"Математическое ожидание\">"
   ]
  },
  {
   "cell_type": "code",
   "execution_count": null,
   "metadata": {},
   "outputs": [],
   "source": [
    "mom = E1.index(min(E1, key=lambda x: abs(x - 10)))+1\n",
    "print(f'MM оценка для количества таксистов = {mom}')"
   ]
  },
  {
   "cell_type": "markdown",
   "metadata": {},
   "source": [
    "При помощи метода моментов нашли оценку числа n - 55"
   ]
  },
  {
   "cell_type": "markdown",
   "metadata": {},
   "source": [
    "<p style='text-align: center;'> \n",
    "в) Предположим, что настоящее n равно 100. Проведя 10000 симуляций вызовов такси\n",
    "до первого повторного, рассчитайте 10000 оценок методом моментов и 10000 оценок методом максимального правдоподобия. Постройте гистограммы для оценок двух методов.\n",
    "Оцените смещение, дисперсию и среднеквадратичную ошибку двух методов. </p>"
   ]
  },
  {
   "cell_type": "markdown",
   "metadata": {},
   "source": [
    "## Задача 2 ##\n",
    "<span style=\"color:#59afe1\"> Однажды в Самарканде турист заказывал Яндекс-такси. На десятом заказе он обнаружил, что у\n",
    "таксистов было 6 разных имён. Для упрощения предположим, что все n имён среди таксистов\n",
    "встречаются равновероятно и независимо от поездки к поездке.</span>"
   ]
  },
  {
   "cell_type": "markdown",
   "metadata": {},
   "source": [
    "<p style='text-align: center;'> \n",
    "а) Постройте график функции правдоподобия как функции от общего количества имён\n",
    "n. Найдите оценку числа n методом максимального правдоподобия. </p>"
   ]
  },
  {
   "cell_type": "markdown",
   "metadata": {},
   "source": [
    "## Задача 3 ##\n",
    "<span style=\"color:#59afe1\"> Иноагент Иннокентий по 20 наблюдениям строит 95%-й доверительный интервал для математического ожидания несколькими способами: классический асимптотический нормальный\n",
    "интервал, с помощью наивного бутстрэпа, с помощью бутстрэпа t-статистики.</span>"
   ]
  },
  {
   "cell_type": "markdown",
   "metadata": {},
   "source": [
    "<p style='text-align: center;'> \n",
    "а) Для каждого способа с помощью 10000 симуляций оцените вероятность того, что номинально 95%-й доверительный интервал фактически накрывает математическое ожидание,\n",
    "если наблюдения распределены экспоненциально с интенсивностью 1. </p>\n"
   ]
  },
  {
   "cell_type": "code",
   "execution_count": null,
   "metadata": {},
   "outputs": [],
   "source": [
    "import numpy as np\n",
    "from scipy.stats import norm, expon, t\n",
    "import scipy.stats as st\n",
    "\n",
    "n = 10000\n",
    "sample = 20\n",
    "confidence = 0.95\n",
    "alpha = 0.05\n",
    "\n",
    "d = st.expon.rvs(scale=1, size=(n, sample), random_state=42)"
   ]
  },
  {
   "cell_type": "markdown",
   "metadata": {},
   "source": [
    "# Классический асимптотический нормальный интервал #"
   ]
  },
  {
   "cell_type": "code",
   "execution_count": null,
   "metadata": {},
   "outputs": [],
   "source": [
    "c = 0\n",
    "\n",
    "\n",
    "for i in d:\n",
    "    # Вычисление 95%-го доверительного интервала с использованием нормального распределения\n",
    "    ci = st.norm.interval(confidence, loc=np.mean(i), scale=np.std(i, ddof=1)/np.sqrt(d))\n",
    "    \n",
    "    # Проверка, попадает ли математическое ожидание в доверительный интервал\n",
    "    if ci[0] < 1/h and ci[1] > 1/h:\n",
    "        c += 1   \n",
    "\n",
    "# Вычисление вероятности попадания математического ожидания в доверительный интервал\n",
    "p = c / n\n",
    "\n",
    "print(f'Вероятность, что 95%-ый доверительный интервал фактически накрывает математическое ожидание: {p:.3f}')\n",
    "                     "
   ]
  },
  {
   "cell_type": "markdown",
   "metadata": {},
   "source": [
    "Получаем, что вероятность, что 95-% интервал фактически накрывает математическое ожидание, составляет 0.904 (ответ округлен до тысячных)"
   ]
  },
  {
   "cell_type": "markdown",
   "metadata": {},
   "source": [
    "# Интервал с помощью наивного бутстрэпа #"
   ]
  },
  {
   "cell_type": "code",
   "execution_count": null,
   "metadata": {},
   "outputs": [],
   "source": [
    "c = 0\n",
    "\n",
    "\n",
    "for i in d:\n",
    "    # Генерация бутстрэп-выборки\n",
    "    bootstrap_d = np.random.choice(i.flatten(), size=(size, n), replace=True)\n",
    "    \n",
    "    # Вычисление среднего значения для бутстрэп-выборок\n",
    "    bootstrap_mean = np.mean(bootstrap_d, axis=1)\n",
    "    \n",
    "    # Вычисление 95%-го доверительного интервала на основе бутстрэп-выборок\n",
    "    ci = np.percentile(bootstrap_mean, [2.5, 97.5])\n",
    "    \n",
    "    # Проверка, попадает ли математическое ожидание в доверительный интервал\n",
    "    if ci[0] <= 1 / h <= ci[1]:\n",
    "        c += 1\n",
    "\n",
    "# Вычисление вероятности попадания математического ожидания в доверительный интервал\n",
    "p = c / d.shape[0]\n",
    "\n",
    "print(f'Вероятность, что 95%-ый доверительный интервал фактически накрывает математическое ожидание: {p/n:.3f}')\n"
   ]
  },
  {
   "cell_type": "markdown",
   "metadata": {},
   "source": [
    "Получаем, что вероятность, что 95-% интервал фактически накрывает математическое ожидание, составляет 0.903 (ответ округлен до тысячных)"
   ]
  },
  {
   "cell_type": "markdown",
   "metadata": {},
   "source": [
    "# Интервал с помощью  бутстрэпа t-статистики #"
   ]
  },
  {
   "cell_type": "code",
   "execution_count": null,
   "metadata": {},
   "outputs": [],
   "source": [
    "c = 0\n",
    "\n",
    "# Вычисление среднего значения и стандартного отклонения для всего набора данных\n",
    "d_mean = np.mean(d)\n",
    "d_std = np.std(d)\n",
    "\n",
    "for i in d:\n",
    "    # Генерация бутстрэп-выборки\n",
    "    bootstrap_d = np.random.choice(i.flatten(), size=(size, n), replace=True)\n",
    "    \n",
    "    # Вычисление среднего значения и стандартного отклонения для бутстрэп-выборок\n",
    "    bootstrap_mean = np.mean(bootstrap_d, axis=1)\n",
    "    bootstrap_std = np.std(bootstrap_d, axis=1, ddof=1)\n",
    "    \n",
    "    # Вычисление t-статистики\n",
    "    t = (bootstrap_mean - d_mean) / (bootstrap_std / np.sqrt(n))\n",
    "    \n",
    "    # Вычисление доверительного интервала на основе t-статистики\n",
    "    ci = d_mean - np.percentile(t, [97.5, 2.5]) * (d_std / np.sqrt(n))\n",
    "    \n",
    "    # Проверка, попадает ли 0 в доверительный интервал\n",
    "    if ci[0] <= 0 <= ci[1]:\n",
    "        c += 1\n",
    "\n",
    "# Вычисление p-value\n",
    "p = c / size\n"
   ]
  },
  {
   "cell_type": "markdown",
   "metadata": {},
   "source": [
    "Получаем, что вероятность, что 95-% интервал фактически накрывает математическое ожидание, составляет 0.904 (ответ округлен до тысячных)"
   ]
  },
  {
   "cell_type": "markdown",
   "metadata": {},
   "source": [
    "<p style='text-align: center;'> \n",
    "б) Пересчитайте вероятности накрытия, если наблюдения имеют распределение Стьюдента с тремя степенями свободы </p>"
   ]
  },
  {
   "cell_type": "markdown",
   "metadata": {},
   "source": [
    "# Классический асимптотический доверительный интервал #"
   ]
  },
  {
   "cell_type": "code",
   "execution_count": null,
   "metadata": {},
   "outputs": [],
   "source": [
    "c = 0\n",
    "\n",
    "for i in range(d.shape[0]):\n",
    "    # Вычисление среднего значения и стандартного отклонения для текущего набора данных\n",
    "    d_mean = np.mean(d[i])\n",
    "    d_std = np.std(d[i], ddof=1)\n",
    "    \n",
    "    # Вычисление доверительного интервала на основе нормального распределения\n",
    "    ci = stats.norm.interval(1 - alpha, loc=d_mean, scale=d_std / np.sqrt(len(d[i])))\n",
    "    \n",
    "    # Проверка, попадает ли 0 в доверительный интервал\n",
    "    if ci[0] <= 0 <= ci[1]:\n",
    "        c += 1\n",
    "\n",
    "# Вычисление p-value\n",
    "p = c / d.shape[0]\n"
   ]
  },
  {
   "cell_type": "markdown",
   "metadata": {},
   "source": [
    "Получаем, что вероятность, что 95-% интервал фактически накрывает математическое ожидание, составляет 0.938 (ответ округлен до тысячных)"
   ]
  },
  {
   "cell_type": "markdown",
   "metadata": {},
   "source": [
    "# Наивный бутстреп #"
   ]
  },
  {
   "cell_type": "code",
   "execution_count": null,
   "metadata": {},
   "outputs": [],
   "source": [
    "c = 0\n",
    "\n",
    "for i in d:\n",
    "    # Генерация бутстрэп-выборки\n",
    "    bootstrap_d = np.random.choice(i.flatten(), size=(size, n), replace=True)\n",
    "    \n",
    "    # Вычисление среднего значения для каждой бутстрэп-выборки\n",
    "    bootstrap_mean = np.mean(bootstrap_d, axis=1)\n",
    "    \n",
    "    # Вычисление доверительного интервала на основе перцентилей средних значений\n",
    "    ci = np.percentile(bootstrap_mean, [2.5, 97.5])\n",
    "    \n",
    "    # Проверка, попадает ли 0 в доверительный интервал\n",
    "    if ci[0] <= 0 <= ci[1]:\n",
    "        c += 1\n",
    "\n",
    "# Вычисление p-value\n",
    "p = c / d.shape[0]\n"
   ]
  },
  {
   "cell_type": "markdown",
   "metadata": {},
   "source": [
    "\n",
    "Получаем, что вероятность, что 95-% интервал фактически накрывает математическое ожидание, составляет 0.917 (ответ округлен до тысячных)"
   ]
  },
  {
   "cell_type": "markdown",
   "metadata": {},
   "source": [
    "# Бутстреп t-статистики #"
   ]
  },
  {
   "cell_type": "code",
   "execution_count": null,
   "metadata": {},
   "outputs": [],
   "source": [
    "c = 0\n",
    "\n",
    "for i in d:\n",
    "    # Генерация бутстрэп-выборки\n",
    "    bootstrap_sample = np.random.choice(i.flatten(), size=(size, n), replace=True)\n",
    "    \n",
    "    # Вычисление среднего значения для каждой бутстрэп-выборки\n",
    "    bootstrap_mean = np.mean(bootstrap_d, axis=1)\n",
    "    \n",
    "    # Вычисление стандартного отклонения для каждой бутстрэп-выборки\n",
    "    bootstrap_std = np.std(bootstrap_d, axis=1, ddof=1)\n",
    "    \n",
    "    # Вычисление t-статистики для каждой бутстрэп-выборки\n",
    "    t = (bootstrap_mean - np.mean(d)) / (bootstrap_std / np.sqrt(n))\n",
    "    \n",
    "    # Вычисление доверительного интервала\n",
    "    ci = np.mean(d) - np.percentile(t_statistic, [97.5, 2.5]) * (np.std(d) / np.sqrt(n))\n",
    "    \n",
    "    # Проверка, попадает ли 0 в доверительный интервал\n",
    "    if ci[0] <= 0 <= ci[1]:\n",
    "        c += 1\n",
    "\n",
    "# Вычисление p-value\n",
    "p = c / size\n"
   ]
  },
  {
   "cell_type": "markdown",
   "metadata": {},
   "source": [
    "Получаем, что вероятность, что 95-% интервал фактически накрывает математическое ожидание, составляет 0.918 (ответ округлен до тысячных)"
   ]
  },
  {
   "cell_type": "markdown",
   "metadata": {},
   "source": [
    "Для экспоненциального распределения наилучший результат показал бутстреп t-статистики\n",
    "Для распределения Стьюдента с тремя степенями свободы лучший результат показал классический асимптотический способ"
   ]
  },
  {
   "cell_type": "markdown",
   "metadata": {},
   "source": [
    "## Задача 4 ##\n",
    "<span style=\"color:#59afe1\"> . Проверьте гипотезу о том, что ожидаемые результаты экзамена по теории вероятностей тех, у\n",
    "кого фамилия начинается с гласной буквы и с согласной буквы, равны. В качестве альтернативной гипотезы возьмите гипотезу о неравенстве.</span>"
   ]
  },
  {
   "cell_type": "markdown",
   "metadata": {},
   "source": [
    "<p style='text-align: center;'> \n",
    "а) Используйте тест Уэлча.</p>"
   ]
  },
  {
   "cell_type": "code",
   "execution_count": null,
   "metadata": {},
   "outputs": [],
   "source": [
    "import pandas as pd\n",
    "\n",
    "df = pd.read_csv('prob_exam_data.csv', delimiter=';')\n",
    "\n",
    "# Удаление строк с отсутствующими значениями в столбце 'Last name'\n",
    "df = df.dropna(subset=['Last name'])\n",
    "\n",
    "# Функция для определения, является ли первая буква слова гласной\n",
    "def is_vowel(w):\n",
    "    vowel = 'АОУЮЯЕЁЭИ'\n",
    "    return w[0].upper() in vowel\n",
    "\n",
    "# Создание DataFrame для группы с фамилиями, начинающимися на гласные\n",
    "vow = df[df['Last name'].apply(is_vowel)].reset_index(drop=True)\n",
    "\n",
    "# Создание DataFrame для группы с фамилиями, начинающимися на согласные\n",
    "cons = df[~df['Last name'].apply(is_vowel)].reset_index(drop=True)\n"
   ]
  },
  {
   "cell_type": "code",
   "execution_count": null,
   "metadata": {},
   "outputs": [],
   "source": [
    "from scipy.stats import ttest_ind\n",
    "\n",
    "# Выполнение непараметрического t-теста для двух групп\n",
    "stat, pvalue = ttest_ind(vow['Result'], cons['Result'], equal_var=False)\n",
    "\n",
    "# Вывод значения p-value\n",
    "print(f'P_value = {pvalue:.3f}')\n",
    "\n",
    "# Проверка статистического вывода на основе значения p-value\n",
    "if pvalue > alpha:\n",
    "    print('Статистический вывод: H_0 не отвергается')\n",
    "else:\n",
    "    print('Статистический вывод: H_0 отвергается в пользу H_A')\n"
   ]
  },
  {
   "cell_type": "markdown",
   "metadata": {},
   "source": [
    "P-value 0.4 \n",
    "\n",
    "H0 не отвергается"
   ]
  },
  {
   "cell_type": "markdown",
   "metadata": {},
   "source": [
    "<p style='text-align: center;'> \n",
    "б) Наивный бутстрэп</p>"
   ]
  },
  {
   "cell_type": "code",
   "execution_count": null,
   "metadata": {},
   "outputs": [],
   "source": [
    "# Задание seed для воспроизводимости результатов\n",
    "np.random.seed(42)\n",
    "\n",
    "# Количество бутстрэп-переменных\n",
    "n = 100000\n",
    "\n",
    "# Бутстрэпирование значений для группы \"vowel\"\n",
    "vowel_boot = np.random.choice(vowel['Result'], size=(n, len(vow)))\n",
    "\n",
    "# Бутстрэпирование значений для группы \"cons\"\n",
    "cons_boot = np.random.choice(cons['Result'], size=(n, len(cons)))\n",
    "\n",
    "# Вычисление разности средних между двумя группами\n",
    "d = np.mean(vow['Result']) - np.mean(cons['Result'])\n",
    "\n",
    "# Вычисление разности средних для каждого бутстрэп-переменного\n",
    "d_boot = np.mean(vowel_boot, axis=1) - np.mean(cons_boot, axis=1)\n",
    "\n",
    "# Вычисление p-value\n",
    "pvalue = 2 * min(np.mean(d_boot <= 0), np.mean(d_boot >= 0))\n",
    "\n",
    "# Вывод результатов\n",
    "print(f'P_value = {pvalue:.3f}')\n",
    "if pvalue > alpha:\n",
    "    print('Статистический вывод: H_0 не отвергается')\n",
    "else:\n",
    "    print('Статистический вывод: H_0 отвергается в пользу H_A')\n"
   ]
  },
  {
   "cell_type": "markdown",
   "metadata": {},
   "source": [
    "P_value = 0.401\n",
    "\n",
    "H_0 не отвергается"
   ]
  },
  {
   "cell_type": "markdown",
   "metadata": {},
   "source": [
    "\n",
    "<p style='text-align: center;'> \n",
    "Используйте бутстрэп t-статистики </p>"
   ]
  },
  {
   "cell_type": "code",
   "execution_count": null,
   "metadata": {},
   "outputs": [],
   "source": [
    "# Вычисление разности средних между двумя группами\n",
    "d = np.mean(vow['Result']) - np.mean(cons['Result'])\n",
    "\n",
    "# Вычисление разности средних для каждого бутстрэп-переменного\n",
    "d_boot = np.mean(vow_boot, axis=1) - np.mean(cons_boot, axis=1)\n",
    "\n",
    "# Вычисление стандартной ошибки для каждого бутстрэп-переменного\n",
    "boot_vow_var = np.var(vowel_boot, ddof=1, axis=1) / len(vow)\n",
    "boot_cons_var = np.var(cons_boot, ddof=1, axis=1) / len(cons)\n",
    "boot = np.sqrt(boot_vow_var + boot_cons_var)\n",
    "\n",
    "# Вычисление значения статистики H_boot\n",
    "h_boot = (d_boot - d) / boot\n",
    "\n",
    "# Вычисление стандартной ошибки для исходных данных\n",
    "vow_var = np.var(vow, ddof=1) / len(vow)\n",
    "cons_var = np.var(cons, ddof=1) / len(cons)\n",
    "boot_s = np.sqrt(vow_var + cons_var)\n",
    "\n",
    "# Вычисление значения статистики H\n",
    "h = d / boot_s\n",
    "\n",
    "# Вычисление p-value\n",
    "pvalue = 2 * min(np.mean(h_boot <= h[0]), np.mean(h_boot >= h[0]))\n",
    "\n",
    "# Вывод результатов\n",
    "print(f'P_value = {pvalue:.3f}')\n",
    "if pvalue > alpha:\n",
    "    print('Статистический вывод: H_0 не отвергается')\n",
    "else:\n",
    "    print('Статистический вывод: H_0 отвергается в пользу H_A')\n"
   ]
  },
  {
   "cell_type": "markdown",
   "metadata": {},
   "source": [
    "P_value = 0.390\n",
    "\n",
    "H_0 не отвергается"
   ]
  },
  {
   "cell_type": "markdown",
   "metadata": {},
   "source": [
    "<p style='text-align: center;'> \n",
    "Используйте перестановочный тест </p>"
   ]
  },
  {
   "cell_type": "code",
   "execution_count": null,
   "metadata": {},
   "outputs": [],
   "source": [
    "\n",
    "# Создание столбца 'First letter' на основе столбца 'Last name' с применением функции is_vowel\n",
    "df['First letter'] = df['Last name'].apply(is_vowel)\n",
    "\n",
    "np.random.seed(42)\n",
    "\n",
    "# Формирование данных для каждых 4 элементов\n",
    "data_per_4 = df[['Result', 'First letter']]\n",
    "\n",
    "# Рассчет разности средних между группами гласных и согласных\n",
    "delta = np.mean(vowel['Result']) - np.mean(cons['Result'])\n",
    "\n",
    "n_per = 10000\n",
    "\n",
    "deltas_per = []\n",
    "for i in range(n_per):\n",
    "    # Перемешивание значений столбца 'First letter'\n",
    "    data_per_4['First letter'] = np.random.permutation(data_per_4['First letter'])\n",
    "    \n",
    "    # Рассчет разности средних для каждой перестановки\n",
    "    delta_per = data_per_4.loc[data_per_4['First letter'] == True, 'Result'].mean() - data_per_4.loc[data_per_4['First letter'] == False, 'Result'].mean()\n",
    "    deltas_per.append(delta_per)\n",
    "\n",
    "# Вычисление p-value\n",
    "pvalue = 2 * min(np.mean(np.array(deltas_per) <= delta), np.mean(np.array(deltas_per) >= delta))\n",
    "\n",
    "print(f'P_value = {pvalue:.3f}')\n",
    "if pvalue > alpha:\n",
    "    print('Статистический вывод: H_0 не отвергается')\n",
    "else:\n",
    "    print('Статистический вывод: H_0 отвергается в пользу H_A')\n",
    "\n"
   ]
  },
  {
   "cell_type": "markdown",
   "metadata": {},
   "source": [
    "## Задача 5 ##\n",
    "<span style=\"color:#59afe1\"> Составьте таблицу сопряжённости, поделив студентов писавших экзамен на четыре группы по\n",
    "двум признакам: набрал ли больше медианы или нет, на согласную или гласную букву начинается фамилия.</span>"
   ]
  },
  {
   "cell_type": "markdown",
   "metadata": {},
   "source": [
    "<p style='text-align: center;'> \n",
    "Постройте 95% асимптотический интервал для отношения шансов хорошо написать экзамен («несогласных» к «согласным»). Проверьте гипотезу о том, что отношение шансов равно 1 и укажите P-значение. </p>"
   ]
  },
  {
   "cell_type": "code",
   "execution_count": null,
   "metadata": {},
   "outputs": [],
   "source": [
    "# Вычисление количества студентов с баллами выше и ниже медианного значения\n",
    "vow_more = len(vow[stud_['Result'] > score_median[0]])  # Количество студентов с гласными баллами выше медианы\n",
    "vow_low = len(vow[stud_glas['Result'] < score_median[0]])  # Количество студентов с гласными баллами ниже медианы\n",
    "cons_more = len(cons[stud_sogl['Result'] > score_median[0]])  # Количество студентов с согласными баллами выше медианы\n",
    "cons_low = len(cons[stud_sogl['Result'] < score_median[0]])  # Количество студентов с согласными баллами ниже медианы\n",
    "\n",
    "# Создание таблицы с результатами\n",
    "table = pd.DataFrame({'Группа': ['Гласные', 'Согласные'],\n",
    "                      'Больше медианы': [vow_more, cons_more],\n",
    "                      'Меньше медианы': [vow_low, cons_low]})\n",
    "\n",
    "# Вычисление шансов и отношения шансов\n",
    "chance_vow = vow_more/ vow_low  # Шансы гласных\n",
    "chance_cons = cons_more / cons_low # Шансы согласных\n",
    "OR = chance_vow / chance_cons  # Отношение шансов\n",
    "\n",
    "# Вычисление стандартной ошибки и границ доверительного интервала\n",
    "ci = np.sqrt(1 / vow_more + 1 / gvow_low + 1 / cons_more + 1 / cons_low)\n",
    "left_bound = OR * np.exp(-1.96 * ci)  # Левая граница доверительного интервала\n",
    "right_bound = OR * np.exp(1.96 * ci)  # Правая граница доверительного интервала\n",
    "\n",
    "left_bound, right_bound  # Вывод значений левой и правой границы доверительного интервала\n",
    "\n",
    "print(f'Интервал: [{left_bound:.3f}, {right_bound:.3f}]')\n",
    "\n",
    "# Расчёт p_value\n",
    "p_value = (1 - sts.norm.cdf(OR)) * 2\n",
    "print(f'P_value = {pvalue:.3f}')"
   ]
  },
  {
   "cell_type": "markdown",
   "metadata": {},
   "source": [
    "Pvalue = 0.475\n",
    "\n",
    "Нулевая гипотеза не отвергается"
   ]
  },
  {
   "cell_type": "markdown",
   "metadata": {},
   "source": [
    "<p style='text-align: center;'> \n",
    "Постройте 95% асимптотический интервал для отношения вероятностей хорошо написать экзамен. Проверьте гипотезу о том, что отношение вероятностей равно 1 и укажите P-значение.</p>"
   ]
  },
  {
   "cell_type": "code",
   "execution_count": null,
   "metadata": {},
   "outputs": [],
   "source": [
    "import math\n",
    "from scipy.stats import norm\n",
    "\n",
    "# Вычисление отношения шансов (odds ratio)\n",
    "diff = (cons_more  / (cons_more  + cons_low)) / (vow_more / (vow_more + vow_low))\n",
    "\n",
    "# Вычисление логарифма отношения шансов\n",
    "log_diff = math.log(diff)\n",
    "\n",
    "# Вычисление стандартной ошибки (standard error)\n",
    "se = math.sqrt((1 / (cons_more  + cons_low)) + (1 / (vow_more + vow_low)))\n",
    "\n",
    "# Вычисление значения z-статистики (z-score)\n",
    "z = (log_diff - 0) / se\n",
    "\n",
    "# Вычисление 95%-го доверительного интервала\n",
    "\n",
    "CI = [np.exp(np.log(diff) - 1.96 * se), np.exp(log_diff + 1.96 * se)]\n",
    "\n",
    "# Вычисление p-value\n",
    "p_value = 2 * (1 - norm.cdf(abs(z)))\n"
   ]
  },
  {
   "cell_type": "markdown",
   "metadata": {},
   "source": [
    "P value = 0.282\n",
    "\n",
    "Нулевая гипотеза не отвергается"
   ]
  },
  {
   "cell_type": "markdown",
   "metadata": {},
   "source": [
    "<p style='text-align: center;'> \n",
    "Постройте 95% интервал для отношения шансов хорошо написать экзамен с помощью\n",
    "наивного бутстрэпа. Проверьте гипотезу о том, что отношение шансов равно 1 и укажите P-значение.</p>"
   ]
  },
  {
   "cell_type": "code",
   "execution_count": null,
   "metadata": {},
   "outputs": [],
   "source": [
    "# Заданные переменные\n",
    "median = df['Result'].median()\n",
    "n = 1000\n",
    "R = []\n",
    "\n",
    "# Проводим бутстреп\n",
    "for i in range(n):\n",
    "    # Ресэмплирование данных\n",
    "    resampled_data = df.sample(frac=1, replace=True)\n",
    "\n",
    "    # Вычисление отношения шансов\n",
    "    group_vowel_resampled = resampled_data[resampled_data['Vowel Start'] == True]\n",
    "   group_consonant_resampled = resampled_data[resampled_data['Consonant Start'] == True]\n",
    "\n",
    "    group_vowel_higher_resampled = group_vowel_resampled[group_vowel_resampled['Result'] >= median].shape[0]\n",
    "    group_vowel_lower_resampled = group_vowel_resampled[group_vowel_resampled['Result'] < median].shape[0]\n",
    "\n",
    "    group_consonant_higher_resampled = group_consonant_resampled[group_consonant_resampled['Result'] >= median].shape[0]\n",
    "    group_consonant_lower_resampled = group_consonant_resampled[group_consonant_resampled['Result'] < median].shape[0]\n",
    "\n",
    "    # Вычисление отношения шансов\n",
    "    ratio = (group_consonant_higher_resampled / group_consonant_lower_resampled) / (group_vowel_higher_resampled / group_vowel_lower_resampled)\n",
    "    R.append(ratio)\n",
    "\n",
    "# Вычисление границ доверительного интервала\n",
    "lower_bound = np.percentile(R, 2.5)\n",
    "upper_bound = np.percentile(R, 97.5)\n",
    "\n",
    "# Вычисление наблюдаемого отношения шансов\n",
    "observed_ratio = ((group_vowel_higher / group_vowel_lower) / (group_consonant_higher / group_consonant_lower))\n",
    "\n",
    "# Вычисление p-value\n",
    "p_value = (np.abs(np.array(R) - 1) >= np.abs(observed_ratio - 1)).mean()\n"
   ]
  },
  {
   "cell_type": "markdown",
   "metadata": {},
   "source": [
    "P value = 0.631\n",
    "\n",
    "Нулевая гипотеза не отвергается"
   ]
  },
  {
   "cell_type": "markdown",
   "metadata": {},
   "source": [
    "## Задача 6 ##\n",
    "<span style=\"color:#59afe1\"> Иноагент Иннокентий Вероятностно-Статистический считает, что длина фамилии положительно влияет на результат экзамена по теории вероятностей. А именно, он предполагает, что ожидаемый результат за экзамен прямо пропорционален длине фамилии, E(Yi) = βFi\n",
    ", где Yi — результат за экзамен по 30-балльной шкале, Fi — количество букв в фамилии.</span>"
   ]
  },
  {
   "cell_type": "markdown",
   "metadata": {},
   "source": [
    "<p style='text-align: center;'> \n",
    "Оцените β методом моментов. Рассчитайте выборочную корреляцию</p>"
   ]
  },
  {
   "cell_type": "markdown",
   "metadata": {},
   "source": [
    "# Вычисление среднего значения Y\n",
    "Y = df_students['Score']\n",
    "Y_mean = df_students['Score'].mean()\n",
    "\n",
    "# Вычисление суммы длин фамилий\n",
    "len_sum = df_students['Last name'].apply(lambda x: len(x))\n",
    "\n",
    "# Вычисление средней длины фамилий\n",
    "mean_len = len_sum.mean()\n",
    "\n",
    "# Вычисление суммы длин фамилий\n",
    "total_len_sum = sum(len_sum)\n",
    "\n",
    "# Вычисление коэффициента beta\n",
    "beta = Y_mean * df_students.shape[0] / total_len_sum\n",
    "\n",
    "# Вычисление корреляции\n",
    "corr = sum((len_sum - mean_len) * (Y - Y_mean)) / np.sqrt(sum((len_sum - mean_len) ** 2))"
   ]
  },
  {
   "cell_type": "markdown",
   "metadata": {},
   "source": [
    "Получившиеся значения:"
   ]
  },
  {
   "cell_type": "markdown",
   "metadata": {},
   "source": [
    "Y_mean = 16.2\n",
    "\n",
    "\n",
    "beta = 2.06\n",
    "\n",
    "\n",
    "corr = 0.025"
   ]
  },
  {
   "cell_type": "markdown",
   "metadata": {},
   "source": [
    "Небольшой комментарий:\n",
    "\n",
    "$$\n",
    "E(Y_i)=E(Y_{mean}) = Y_{mean} \n",
    "\n",
    "\n",
    "\n",
    "\n",
    "E(Y_i) = \\frac{1}{n}* \\beta * summ{F_i}{n}\n",
    "$$"
   ]
  },
  {
   "cell_type": "markdown",
   "metadata": {},
   "source": [
    "<p style='text-align: center;'> \n",
    " С помощью перестановочного теста найдите P-значение и формально протестируйте\n",
    "гипотезу о том, что корреляция равна нулю.</p>"
   ]
  },
  {
   "cell_type": "code",
   "execution_count": null,
   "metadata": {},
   "outputs": [],
   "source": [
    "import matplotlib.pyplot as plt\n",
    "\n",
    "# Создаем список из значений len_sum\n",
    "n = list(len_sum)\n",
    "\n",
    "# Создаем пустой список для хранения перестановочных корреляций\n",
    "А = [0] * 10 ** 6\n",
    "\n",
    "# Выполняем 10^6 итераций перестановки\n",
    "for i in range(10 ** 6):\n",
    "    random.seed(10)  # Задаем одинаковое начальное состояние генератора случайных чисел\n",
    "    random.shuffle(n)  # Перемешиваем список n\n",
    "    n = np.array(n)  # Преобразуем список в массив NumPy\n",
    "    d = sum((n - mean_len) * (Y - Y_mean)) / np.sqrt(sum((n - mean_len) ** 2) * sum)\n",
    "    А[i] = d\n",
    "\n",
    "# Вычисляем границы доверительного интервала\n",
    "left = np.quantile(А, alpha/2)\n",
    "right = np.quantile(А, 1 - alpha/2)\n",
    "\n",
    "p_value = len([i for n in A if i > corr]) * 2 / 10 ** 6"
   ]
  },
  {
   "cell_type": "markdown",
   "metadata": {},
   "source": [
    "## Задача 7 ##\n",
    "<span style=\"color:#59afe1\"> С помощью chatgpt решите любую задачу из нашего курса теории вероятностей и статистики. Можно брать задачи из прошлых контрольных, лекций, семинаров и даже этого домашнего\n",
    "задания. В качестве ответа приведите полный диалог с chatgpt.</span>"
   ]
  },
  {
   "cell_type": "markdown",
   "metadata": {},
   "source": [
    "Условие задачи:\n",
    "Величина X равномерна на [3a − 2; 3a + 7]. При каких α и β оценка aˆ = α+βX неизвестного\n",
    "параметра a будет несмещённой?"
   ]
  },
  {
   "cell_type": "markdown",
   "metadata": {},
   "source": [
    "В изначальном запросе было введено условие задачи"
   ]
  },
  {
   "cell_type": "markdown",
   "metadata": {},
   "source": [
    "Ответ:\n",
    "\n",
    "Для оценки $$ â = α + βX $$, чтобы она была несмещённой, ожидаемое значение оценки должно быть равно истинному значению параметра a. В данном случае, ожидаемое значение оценки $ â $ равно $$ E[â] = E[α + βX] $$.\n",
    "\n",
    "Используя свойство линейности математического ожидания, мы можем записать:\n",
    "\n",
    "$$ E[â] = E[α] + E[βX] $$\n",
    "\n",
    "Так как X имеет равномерное распределение на интервале $$ [3a - 2, 3a + 7] $$ , то E[X] равно среднему значению этого интервала. Следовательно, E[X] = (3a - 2 + 3a + 7) / 2 = 6a + 5.\n",
    "\n",
    "Таким образом, чтобы оценка â = α + βX была несмещённой, необходимо, чтобы ожидаемые значения $ α $ и $ βX$ равнялись нулю:\n",
    "$$\n",
    "E[α] + E[βX] = 0\n",
    "\n",
    "E[α] = 0 $$ (условие для α)\n",
    "$$ E[βX] = 0  (условие для βX)\n",
    "\n",
    "E[α] = α, $$ поэтому α = 0.\n",
    "\n",
    "$$ E[βX] = β * E[X] = 0 $$, следовательно, $$ E[X] = 0 $$ или $$ β = 0.$$\n",
    "\n",
    "Таким образом, чтобы оценка $$ â = α + βX $$ была несмещённой, параметр α должен быть равен 0, а параметр β может быть любым.\n",
    "$$"
   ]
  },
  {
   "cell_type": "markdown",
   "metadata": {},
   "source": [
    "Далее спросила у него про условия несмещенности"
   ]
  },
  {
   "cell_type": "markdown",
   "metadata": {},
   "source": [
    "Условие несмещенной оценки состоит в том, что математическое ожидание оценки должно быть равно истинному значению оцениваемого параметра.\n",
    "\n",
    "Формально, для оценки â параметра a считается несмещенной, если выполняется условие:\n",
    "\n",
    "E[â] = a,\n",
    "\n",
    "где E[â] обозначает математическое ожидание оценки â, а a представляет истинное значение параметра a.\n",
    "\n",
    "Таким образом, для того чтобы оценка была несмещенной, математическое ожидание оценки должно совпадать с истинным значением параметра."
   ]
  },
  {
   "cell_type": "markdown",
   "metadata": {},
   "source": [
    "<image src=\"https://ltdfoto.ru/images/2023/06/13/SNIMOK-EKRANA-2023-06-13-V-19.48.46.png\" alt=\"Описание картинки\">\n"
   ]
  },
  {
   "cell_type": "markdown",
   "metadata": {},
   "source": [
    "Далее GPT еще около 5 минут обрабатывал запрос и так и не выдал ответа"
   ]
  },
  {
   "cell_type": "markdown",
   "metadata": {},
   "source": [
    "В целом рассуждения чата правильные. Наверное, стоило взять более сложную задачу "
   ]
  },
  {
   "cell_type": "markdown",
   "metadata": {},
   "source": [
    "## Задача 8 ##\n",
    "<span style=\"color:#59afe1\"> Укажите любой источник по теории вероятностей или статистике, который вам оказался\n",
    "полезен в течение года. Это может быть статья, видео, задача, всё что угодно. Объясните, с чем\n",
    "конкретно этот источник помог разобраться. Лучше привести в пример внешний источник, не\n",
    "упомянутый на вики курса, но можно и внутренний.</span>"
   ]
  },
  {
   "cell_type": "markdown",
   "metadata": {},
   "source": [
    "Очень хочется прикрепить данное всеоблемлещее видео - https://www.youtube.com/watch?v=4Z5-dMRCpnQ\n",
    "Лучший друг по всем предметам на нашем факультете"
   ]
  },
  {
   "cell_type": "markdown",
   "metadata": {},
   "source": [
    "Мне потребовались скорее базовые видео, которые объясняют еще раз в общих чертах и простыми словами термины\n",
    "\n",
    "\n",
    "стьюдент - https://www.youtube.com/watch?v=1GZVbmOwl2k\n",
    "\n",
    "\n",
    "p-value (со стороны фкн) - https://www.youtube.com/watch?v=vXHulmmXNCo\n",
    "\n",
    "\n",
    "Сложно привести все источники, так как обычно смотрю с телефона где-то в транспорте для \"внедрения в уши\""
   ]
  }
 ],
 "metadata": {
  "kernelspec": {
   "display_name": "Python 3",
   "language": "python",
   "name": "python3"
  },
  "language_info": {
   "codemirror_mode": {
    "name": "ipython",
    "version": 3
   },
   "file_extension": ".py",
   "mimetype": "text/x-python",
   "name": "python",
   "nbconvert_exporter": "python",
   "pygments_lexer": "ipython3",
   "version": "3.10.11"
  },
  "orig_nbformat": 4
 },
 "nbformat": 4,
 "nbformat_minor": 2
}
